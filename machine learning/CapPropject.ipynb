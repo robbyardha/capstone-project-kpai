{
  "nbformat": 4,
  "nbformat_minor": 0,
  "metadata": {
    "colab": {
      "name": "CapPropject.ipynb",
      "provenance": [],
      "collapsed_sections": []
    },
    "kernelspec": {
      "name": "python3",
      "display_name": "Python 3"
    },
    "language_info": {
      "name": "python"
    }
  },
  "cells": [
    {
      "cell_type": "code",
      "metadata": {
        "colab": {
          "base_uri": "https://localhost:8080/"
        },
        "id": "qyEYH7CdvouG",
        "outputId": "26fca888-2dbc-4426-c8a2-aa0d00571cec"
      },
      "source": [
        "!pip install Flask"
      ],
      "execution_count": 1,
      "outputs": [
        {
          "output_type": "stream",
          "text": [
            "Requirement already satisfied: Flask in /usr/local/lib/python3.7/dist-packages (1.1.2)\n",
            "Requirement already satisfied: Jinja2>=2.10.1 in /usr/local/lib/python3.7/dist-packages (from Flask) (2.11.3)\n",
            "Requirement already satisfied: Werkzeug>=0.15 in /usr/local/lib/python3.7/dist-packages (from Flask) (2.0.0)\n",
            "Requirement already satisfied: itsdangerous>=0.24 in /usr/local/lib/python3.7/dist-packages (from Flask) (2.0.0)\n",
            "Requirement already satisfied: click>=5.1 in /usr/local/lib/python3.7/dist-packages (from Flask) (8.0.0)\n",
            "Requirement already satisfied: MarkupSafe>=0.23 in /usr/local/lib/python3.7/dist-packages (from Jinja2>=2.10.1->Flask) (2.0.0)\n"
          ],
          "name": "stdout"
        }
      ]
    },
    {
      "cell_type": "code",
      "metadata": {
        "colab": {
          "base_uri": "https://localhost:8080/"
        },
        "id": "T6lWysq82I4Z",
        "outputId": "f66e88d9-af08-4ac3-9142-c89081b5ccb2"
      },
      "source": [
        "!pip install nltk"
      ],
      "execution_count": 2,
      "outputs": [
        {
          "output_type": "stream",
          "text": [
            "Requirement already satisfied: nltk in /usr/local/lib/python3.7/dist-packages (3.2.5)\n",
            "Requirement already satisfied: six in /usr/local/lib/python3.7/dist-packages (from nltk) (1.15.0)\n"
          ],
          "name": "stdout"
        }
      ]
    },
    {
      "cell_type": "code",
      "metadata": {
        "colab": {
          "base_uri": "https://localhost:8080/"
        },
        "id": "-hxwSnKt2QZD",
        "outputId": "72dab2a8-ab82-4760-cd6a-ea2bfe238401"
      },
      "source": [
        "!pip install pickle5"
      ],
      "execution_count": 3,
      "outputs": [
        {
          "output_type": "stream",
          "text": [
            "Collecting pickle5\n",
            "\u001b[?25l  Downloading https://files.pythonhosted.org/packages/f7/4c/5c4dd0462c8d3a6bc4af500a6af240763c2ebd1efdc736fc2c946d44b70a/pickle5-0.0.11.tar.gz (132kB)\n",
            "\r\u001b[K     |██▌                             | 10kB 15.5MB/s eta 0:00:01\r\u001b[K     |█████                           | 20kB 21.7MB/s eta 0:00:01\r\u001b[K     |███████▍                        | 30kB 19.3MB/s eta 0:00:01\r\u001b[K     |██████████                      | 40kB 16.6MB/s eta 0:00:01\r\u001b[K     |████████████▍                   | 51kB 9.4MB/s eta 0:00:01\r\u001b[K     |██████████████▉                 | 61kB 10.8MB/s eta 0:00:01\r\u001b[K     |█████████████████▍              | 71kB 8.9MB/s eta 0:00:01\r\u001b[K     |███████████████████▉            | 81kB 9.8MB/s eta 0:00:01\r\u001b[K     |██████████████████████▎         | 92kB 10.2MB/s eta 0:00:01\r\u001b[K     |████████████████████████▉       | 102kB 7.1MB/s eta 0:00:01\r\u001b[K     |███████████████████████████▎    | 112kB 7.1MB/s eta 0:00:01\r\u001b[K     |█████████████████████████████▊  | 122kB 7.1MB/s eta 0:00:01\r\u001b[K     |████████████████████████████████| 133kB 7.1MB/s \n",
            "\u001b[?25hBuilding wheels for collected packages: pickle5\n",
            "  Building wheel for pickle5 (setup.py) ... \u001b[?25l\u001b[?25hdone\n",
            "  Created wheel for pickle5: filename=pickle5-0.0.11-cp37-cp37m-linux_x86_64.whl size=219256 sha256=63a513753279ee13dc7af2afd355d8fe3435a3e32b6a631e851bd9213885c469\n",
            "  Stored in directory: /root/.cache/pip/wheels/a6/90/95/f889ca4aa8b0e0c7f21c8470b6f5d6032f0390a3a141a9a3bd\n",
            "Successfully built pickle5\n",
            "Installing collected packages: pickle5\n",
            "Successfully installed pickle5-0.0.11\n"
          ],
          "name": "stdout"
        }
      ]
    },
    {
      "cell_type": "code",
      "metadata": {
        "colab": {
          "base_uri": "https://localhost:8080/"
        },
        "id": "XHBwoNj_20c1",
        "outputId": "58f22f30-8d74-4cae-f717-b72244c478a3"
      },
      "source": [
        "!pip install pickle-mixin"
      ],
      "execution_count": 4,
      "outputs": [
        {
          "output_type": "stream",
          "text": [
            "Collecting pickle-mixin\n",
            "  Downloading https://files.pythonhosted.org/packages/02/77/9d5eb2201bbc130e2a5cc41fc949e4ab0da74b619107eac1c511be3af7a7/pickle-mixin-1.0.2.tar.gz\n",
            "Building wheels for collected packages: pickle-mixin\n",
            "  Building wheel for pickle-mixin (setup.py) ... \u001b[?25l\u001b[?25hdone\n",
            "  Created wheel for pickle-mixin: filename=pickle_mixin-1.0.2-cp37-none-any.whl size=5999 sha256=cb87ab2e7faf6c1381cf7da8856e100e2ea1f27f0ddb8add0c91f1551f6d2461\n",
            "  Stored in directory: /root/.cache/pip/wheels/cd/05/42/71de70fa36b9cbb7657bb5793a16f8028c1cdc1bdd3b8e1ac3\n",
            "Successfully built pickle-mixin\n",
            "Installing collected packages: pickle-mixin\n",
            "Successfully installed pickle-mixin-1.0.2\n"
          ],
          "name": "stdout"
        }
      ]
    },
    {
      "cell_type": "code",
      "metadata": {
        "colab": {
          "base_uri": "https://localhost:8080/"
        },
        "id": "61a4pnIb3Ii7",
        "outputId": "38801ccc-c06e-4431-b6bd-56247a4f3d5c"
      },
      "source": [
        "!pip install PyYAML"
      ],
      "execution_count": 5,
      "outputs": [
        {
          "output_type": "stream",
          "text": [
            "Requirement already satisfied: PyYAML in /usr/local/lib/python3.7/dist-packages (3.13)\n"
          ],
          "name": "stdout"
        }
      ]
    },
    {
      "cell_type": "code",
      "metadata": {
        "id": "WjzJ4dcp2U6I"
      },
      "source": [
        "import json\n",
        "import pickle\n",
        "import random\n",
        "import nltk\n",
        "import numpy\n",
        "from nltk.stem import LancasterStemmer\n",
        "from tensorflow.python.keras.layers import Dense\n",
        "from tensorflow.python.keras.models import Sequential\n",
        "from tensorflow.python.keras.models import model_from_yaml"
      ],
      "execution_count": 6,
      "outputs": []
    },
    {
      "cell_type": "code",
      "metadata": {
        "colab": {
          "base_uri": "https://localhost:8080/"
        },
        "id": "0HcAypI63JVA",
        "outputId": "f510a2f6-3448-40d5-b32f-4db24bb523c9"
      },
      "source": [
        "nltk.download('punkt')\n",
        "\n",
        "stemmer = LancasterStemmer()\n",
        "\n",
        "with open(\"intents.json\") as file:\n",
        "    data = json.load(file)\n",
        "\n",
        "try:\n",
        "    with open(\"chatbot.pickle\", \"rb\") as file:\n",
        "        words, labels, training, output = pickle.load(file)\n",
        "\n",
        "except:\n",
        "    words = []\n",
        "    labels = []\n",
        "    docs_x = []\n",
        "    docs_y = []\n",
        "\n",
        "    for intent in data[\"intents\"]:\n",
        "        for pattern in intent[\"patterns\"]:\n",
        "            wrds = nltk.word_tokenize(pattern)\n",
        "            words.extend(wrds)\n",
        "            docs_x.append(wrds)\n",
        "            docs_y.append(intent[\"tag\"])\n",
        "\n",
        "        if intent[\"tag\"] not in labels:\n",
        "            labels.append(intent[\"tag\"])\n",
        "\n",
        "    words = [stemmer.stem(w.lower()) for w in words if w != \"?\"]\n",
        "    words = sorted(list(set(words)))\n",
        "\n",
        "    labels = sorted(labels)\n",
        "\n",
        "    training = []\n",
        "    output = []\n",
        "\n",
        "    output_empty = [0 for _ in range(len(labels))]\n",
        "\n",
        "    for x, doc in enumerate(docs_x):\n",
        "        bag = []\n",
        "\n",
        "        wrds = [stemmer.stem(w.lower()) for w in doc]\n",
        "\n",
        "        for w in words:\n",
        "            if w in wrds:\n",
        "                bag.append(1)\n",
        "            else:\n",
        "                bag.append(0)\n",
        "\n",
        "        output_row = output_empty[:]\n",
        "        output_row[labels.index(docs_y[x])] = 1\n",
        "\n",
        "        training.append(bag)\n",
        "        output.append(output_row)\n",
        "\n",
        "    training = numpy.array(training)\n",
        "    output = numpy.array(output)\n",
        "\n",
        "    with open(\"chatbot.pickle\", \"wb\") as file:\n",
        "        pickle.dump((words, labels, training, output), file)\n",
        "\n",
        "try:\n",
        "    yaml_file = open('chatbotmodel.yaml', 'r')\n",
        "    loaded_model_yaml = yaml_file.read()\n",
        "    yaml_file.close()\n",
        "    myChatModel = model_from_yaml(loaded_model_yaml)\n",
        "    myChatModel.load_weights(\"chatbotmodel.h5\")\n",
        "    print(\"Loaded model from disk\")\n",
        "\n",
        "except:\n",
        "    # Make our neural network\n",
        "    myChatModel = Sequential()\n",
        "    myChatModel.add(Dense(8, input_shape=[len(words)], activation='relu'))\n",
        "    myChatModel.add(Dense(len(labels), activation='softmax'))\n",
        "\n",
        "    # optimize the model\n",
        "    myChatModel.compile(loss='categorical_crossentropy', optimizer='adam', metrics=['accuracy'])\n",
        "\n",
        "    # train the model\n",
        "    myChatModel.fit(training, output, epochs=1000, batch_size=8)\n",
        "\n",
        "    # serialize model to yaml and save it to disk\n",
        "    model_yaml = myChatModel.to_yaml()\n",
        "    with open(\"chatbotmodel.yaml\", \"w\") as y_file:\n",
        "        y_file.write(model_yaml)\n",
        "\n",
        "    # serialize weights to HDF5\n",
        "    myChatModel.save_weights(\"chatbotmodel.h5\")\n",
        "    print(\"Saved model from disk\")\n",
        "\n",
        "\n",
        "def bag_of_words(s, words):\n",
        "    bag = [0 for _ in range(len(words))]\n",
        "\n",
        "    s_words = nltk.word_tokenize(s)\n",
        "    s_words = [stemmer.stem(word.lower()) for word in s_words]\n",
        "\n",
        "    for se in s_words:\n",
        "        for i, w in enumerate(words):\n",
        "            if w == se:\n",
        "                bag[i] = 1\n",
        "\n",
        "    return numpy.array(bag)\n",
        "\n",
        "\n",
        "def chatWithBot(inputText):\n",
        "    currentText = bag_of_words(inputText, words)\n",
        "    currentTextArray = [currentText]\n",
        "    numpyCurrentText = numpy.array(currentTextArray)\n",
        "\n",
        "    if numpy.all((numpyCurrentText == 0)):\n",
        "        return \"I didn't get that, try again\"\n",
        "\n",
        "    result = myChatModel.predict(numpyCurrentText[0:1])\n",
        "    result_index = numpy.argmax(result)\n",
        "    tag = labels[result_index]\n",
        "\n",
        "    if result[0][result_index] > 0.7:\n",
        "        for tg in data[\"intents\"]:\n",
        "            if tg['tag'] == tag:\n",
        "                responses = tg['responses']\n",
        "\n",
        "        return random.choice(responses)\n",
        "\n",
        "    else:\n",
        "        return \"I didn't get that, try again\"\n",
        "\n",
        "\n",
        "def chat():\n",
        "    print(\"Start talking with the chatbot (try quit to stop)\")\n",
        "\n",
        "    while True:\n",
        "        inp = input(\"You: \")\n",
        "        if inp.lower() == \"quit\":\n",
        "            break\n",
        "\n",
        "        print(chatWithBot(inp))\n",
        "\n",
        "chat()"
      ],
      "execution_count": 8,
      "outputs": [
        {
          "output_type": "stream",
          "text": [
            "[nltk_data] Downloading package punkt to /root/nltk_data...\n",
            "[nltk_data]   Package punkt is already up-to-date!\n",
            "Loaded model from disk\n",
            "Start talking with the chatbot (try quit to stop)\n",
            "You: hi\n",
            "Hello!\n",
            "You: what is your name\n",
            "You can call me John\n",
            "You: ruyuyfhf\n",
            "I didn't get that, try again\n",
            "You: how old are you ?\n",
            "I am 25 years old!\n",
            "You: nice to meet you\n",
            "I didn't get that, try again\n",
            "You: ehhh hmmm talah\n",
            "I didn't get that, try again\n",
            "You: wkwk\n",
            "I didn't get that, try again\n",
            "You: quit\n"
          ],
          "name": "stdout"
        }
      ]
    }
  ]
}