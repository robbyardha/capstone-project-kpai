{
  "nbformat": 4,
  "nbformat_minor": 0,
  "metadata": {
    "colab": {
      "name": "Text preprocessing.ipynb",
      "provenance": []
    },
    "kernelspec": {
      "display_name": "Python 3",
      "name": "python3"
    },
    "language_info": {
      "name": "python"
    }
  },
  "cells": [
    {
      "cell_type": "code",
      "metadata": {
        "id": "4LbUo4DC4N7O"
      },
      "source": [
        "import pandas as pd\n",
        "import numpy as np\n",
        "import matplotlib.pyplot as plt\n",
        "import seaborn as sns\n",
        "import re"
      ],
      "execution_count": null,
      "outputs": []
    },
    {
      "cell_type": "code",
      "metadata": {
        "colab": {
          "base_uri": "https://localhost:8080/"
        },
        "id": "dYy0P3XL4x1k",
        "outputId": "70ba80a8-30be-4084-a810-f3227da6de5b"
      },
      "source": [
        "df=pd.read_csv('Alodokter - Alodokter.csv')\n",
        "df.isnull().sum()"
      ],
      "execution_count": null,
      "outputs": [
        {
          "output_type": "execute_result",
          "data": {
            "text/plain": [
              "Curhat                 0\n",
              "Judul                  0\n",
              "Link                   0\n",
              "Topic                  0\n",
              "Keluarga             136\n",
              "Percintaan           136\n",
              "Anak Remaja          136\n",
              "Pengembangan Diri    135\n",
              "Trauma               137\n",
              "Phobia               137\n",
              "Masalah Emosi        135\n",
              "Bullying             136\n",
              "Bukan Psikologi      137\n",
              "dtype: int64"
            ]
          },
          "metadata": {
            "tags": []
          },
          "execution_count": 80
        }
      ]
    },
    {
      "cell_type": "code",
      "metadata": {
        "id": "f_lqza865BRT"
      },
      "source": [
        "df.dropna(inplace=True)\n",
        "df.reset_index(drop=True,inplace=True)"
      ],
      "execution_count": null,
      "outputs": []
    },
    {
      "cell_type": "code",
      "metadata": {
        "colab": {
          "base_uri": "https://localhost:8080/"
        },
        "id": "v1MggIMp5KHD",
        "outputId": "f8ac54fc-0715-42fa-d658-8f7c1ba80113"
      },
      "source": [
        "df.isnull().sum()"
      ],
      "execution_count": null,
      "outputs": [
        {
          "output_type": "execute_result",
          "data": {
            "text/plain": [
              "Curhat               0\n",
              "Judul                0\n",
              "Link                 0\n",
              "Topic                0\n",
              "Keluarga             0\n",
              "Percintaan           0\n",
              "Anak Remaja          0\n",
              "Pengembangan Diri    0\n",
              "Trauma               0\n",
              "Phobia               0\n",
              "Masalah Emosi        0\n",
              "Bullying             0\n",
              "Bukan Psikologi      0\n",
              "dtype: int64"
            ]
          },
          "metadata": {
            "tags": []
          },
          "execution_count": 82
        }
      ]
    },
    {
      "cell_type": "code",
      "metadata": {
        "colab": {
          "base_uri": "https://localhost:8080/",
          "height": 204
        },
        "id": "hq_RJ41EI7tQ",
        "outputId": "b172f745-5334-4f58-a354-e3459bf28ac2"
      },
      "source": [
        "import ast\n",
        "file = open(\"combined_slang_words.txt\")\n",
        "content = file.read()\n",
        "dicti = ast.literal_eval(content)\n",
        "slang = pd.DataFrame(dicti.items(),columns=['original','replacement'])\n",
        "slang.head()"
      ],
      "execution_count": null,
      "outputs": [
        {
          "output_type": "execute_result",
          "data": {
            "text/html": [
              "<div>\n",
              "<style scoped>\n",
              "    .dataframe tbody tr th:only-of-type {\n",
              "        vertical-align: middle;\n",
              "    }\n",
              "\n",
              "    .dataframe tbody tr th {\n",
              "        vertical-align: top;\n",
              "    }\n",
              "\n",
              "    .dataframe thead th {\n",
              "        text-align: right;\n",
              "    }\n",
              "</style>\n",
              "<table border=\"1\" class=\"dataframe\">\n",
              "  <thead>\n",
              "    <tr style=\"text-align: right;\">\n",
              "      <th></th>\n",
              "      <th>original</th>\n",
              "      <th>replacement</th>\n",
              "    </tr>\n",
              "  </thead>\n",
              "  <tbody>\n",
              "    <tr>\n",
              "      <th>0</th>\n",
              "      <td>pdahal</td>\n",
              "      <td>padahal</td>\n",
              "    </tr>\n",
              "    <tr>\n",
              "      <th>1</th>\n",
              "      <td>kluar</td>\n",
              "      <td>keluar</td>\n",
              "    </tr>\n",
              "    <tr>\n",
              "      <th>2</th>\n",
              "      <td>hbis</td>\n",
              "      <td>habis</td>\n",
              "    </tr>\n",
              "    <tr>\n",
              "      <th>3</th>\n",
              "      <td>tnya</td>\n",
              "      <td>tanya</td>\n",
              "    </tr>\n",
              "    <tr>\n",
              "      <th>4</th>\n",
              "      <td>prnah</td>\n",
              "      <td>pernah</td>\n",
              "    </tr>\n",
              "  </tbody>\n",
              "</table>\n",
              "</div>"
            ],
            "text/plain": [
              "  original replacement\n",
              "0   pdahal     padahal\n",
              "1    kluar      keluar\n",
              "2     hbis       habis\n",
              "3     tnya       tanya\n",
              "4    prnah      pernah"
            ]
          },
          "metadata": {
            "tags": []
          },
          "execution_count": 83
        }
      ]
    },
    {
      "cell_type": "code",
      "metadata": {
        "colab": {
          "base_uri": "https://localhost:8080/",
          "height": 204
        },
        "id": "wNQQwemJJSoR",
        "outputId": "4330d619-42ac-4f98-dbd6-e61e298bc5c6"
      },
      "source": [
        "stopwords = pd.read_csv('combined_stop_words.txt',sep='\\n',header=None)\n",
        "stopwords.columns = ['stopword']\n",
        "stopwords.head()"
      ],
      "execution_count": null,
      "outputs": [
        {
          "output_type": "execute_result",
          "data": {
            "text/html": [
              "<div>\n",
              "<style scoped>\n",
              "    .dataframe tbody tr th:only-of-type {\n",
              "        vertical-align: middle;\n",
              "    }\n",
              "\n",
              "    .dataframe tbody tr th {\n",
              "        vertical-align: top;\n",
              "    }\n",
              "\n",
              "    .dataframe thead th {\n",
              "        text-align: right;\n",
              "    }\n",
              "</style>\n",
              "<table border=\"1\" class=\"dataframe\">\n",
              "  <thead>\n",
              "    <tr style=\"text-align: right;\">\n",
              "      <th></th>\n",
              "      <th>stopword</th>\n",
              "    </tr>\n",
              "  </thead>\n",
              "  <tbody>\n",
              "    <tr>\n",
              "      <th>0</th>\n",
              "      <td>adalah</td>\n",
              "    </tr>\n",
              "    <tr>\n",
              "      <th>1</th>\n",
              "      <td>adapun</td>\n",
              "    </tr>\n",
              "    <tr>\n",
              "      <th>2</th>\n",
              "      <td>agaknya</td>\n",
              "    </tr>\n",
              "    <tr>\n",
              "      <th>3</th>\n",
              "      <td>akan</td>\n",
              "    </tr>\n",
              "    <tr>\n",
              "      <th>4</th>\n",
              "      <td>akhir</td>\n",
              "    </tr>\n",
              "  </tbody>\n",
              "</table>\n",
              "</div>"
            ],
            "text/plain": [
              "  stopword\n",
              "0   adalah\n",
              "1   adapun\n",
              "2  agaknya\n",
              "3     akan\n",
              "4    akhir"
            ]
          },
          "metadata": {
            "tags": []
          },
          "execution_count": 84
        }
      ]
    },
    {
      "cell_type": "code",
      "metadata": {
        "id": "_LbZJVCXHNbZ"
      },
      "source": [
        "def lowercase(text):\n",
        "    return text.lower()\n",
        "\n",
        "def remove_repeated_char(text):\n",
        "    return ' '.join([re.sub(r'(.+?)\\1+$', r'\\1\\1',word) for word in text.split(' ')])\n",
        "\n",
        "def remove_unnecessary_char(text):\n",
        "    text = re.sub('\\n',' ',text) # Remove every '\\n'\n",
        "    text = re.sub('\\r',' ',text) # Remove every '\\r'\n",
        "    text = re.sub('((www\\.[^\\s]+)|(https?://[^\\s]+)|(http?://[^\\s]+))',' ',text) # Remove every URL\n",
        "    text = re.sub('  +', ' ', text) # Remove extra spaces\n",
        "    return text\n",
        "\n",
        "def remove_nonaplhanumeric(text):\n",
        "    text = re.sub('[^a-zA-Z0-9]+', ' ', text) \n",
        "    return text\n",
        "\n",
        "slang_dict_map = dict(zip(slang['original'], slang['replacement']))\n",
        "def formalize_words(text):\n",
        "    return ' '.join([slang_dict_map[word] if word in slang_dict_map else word for word in text.split(' ')])\n",
        "\n",
        "def remove_stopword(text):\n",
        "    text = ' '.join(['' if word in stopwords.stopword.values else word for word in text.split(' ')])\n",
        "    text = re.sub('  +', ' ', text) # Remove extra spaces\n",
        "    text = text.strip()\n",
        "    return text"
      ],
      "execution_count": null,
      "outputs": []
    },
    {
      "cell_type": "code",
      "metadata": {
        "id": "douD8aehI51C"
      },
      "source": [
        "def preprocess(text):\n",
        "    text = lowercase(text) \n",
        "    text = remove_unnecessary_char(text)\n",
        "    text = remove_nonaplhanumeric(text)  \n",
        "    text = remove_repeated_char(text)\n",
        "    text = formalize_words(text) \n",
        "    text = remove_stopword(text) \n",
        "    return text"
      ],
      "execution_count": null,
      "outputs": []
    },
    {
      "cell_type": "code",
      "metadata": {
        "id": "uFOpIXYoMazH"
      },
      "source": [
        "def before_preprocess(text):\n",
        "  text = re.sub(r\"\\\\u00[0-9a-p]{2}\",\"\",text)\n",
        "  text = re.sub(r\"[^\\u0000-\\u007F]\",\" \",text)\n",
        "  text = re.sub(r\"/p+\",\" \",text)\n",
        "  text = re.sub(r\"\\xa0\",\" \",text)\n",
        "  return text"
      ],
      "execution_count": null,
      "outputs": []
    },
    {
      "cell_type": "code",
      "metadata": {
        "id": "Zn-RFqhgNmI5"
      },
      "source": [
        "df['Curhat'] = df['Curhat'].apply(lambda text: before_preprocess(text))\n",
        "df['Curhat'] = df['Curhat'].apply(lambda text: preprocess(text))"
      ],
      "execution_count": null,
      "outputs": []
    },
    {
      "cell_type": "code",
      "metadata": {
        "id": "ux5Sdys7SLer"
      },
      "source": [
        "df.to_csv('clean_data.csv',index=False)"
      ],
      "execution_count": null,
      "outputs": []
    },
    {
      "cell_type": "code",
      "metadata": {
        "id": "nDneXaqFVWS4"
      },
      "source": [
        ""
      ],
      "execution_count": null,
      "outputs": []
    }
  ]
}